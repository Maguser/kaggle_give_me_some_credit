{
 "cells": [
  {
   "cell_type": "code",
   "execution_count": 275,
   "metadata": {},
   "outputs": [],
   "source": [
    "import pandas as pd"
   ]
  },
  {
   "cell_type": "code",
   "execution_count": 276,
   "metadata": {},
   "outputs": [],
   "source": [
    "import numpy as np\n",
    "import matplotlib.pyplot as plt\n",
    "%matplotlib inline\n",
    "from sklearn.metrics import roc_auc_score\n",
    "from sklearn.linear_model import LogisticRegression\n",
    "import seaborn as sns\n",
    "from scipy import stats\n",
    "from scipy.stats import norm\n",
    "from scipy.stats import boxcox"
   ]
  },
  {
   "cell_type": "code",
   "execution_count": 277,
   "metadata": {},
   "outputs": [],
   "source": [
    "data = pd.read_csv('cs-training.csv', encoding='cp1251', sep=',')"
   ]
  },
  {
   "cell_type": "code",
   "execution_count": 278,
   "metadata": {},
   "outputs": [
    {
     "name": "stdout",
     "output_type": "stream",
     "text": [
      "<class 'pandas.core.frame.DataFrame'>\n",
      "RangeIndex: 150000 entries, 0 to 149999\n",
      "Data columns (total 12 columns):\n",
      "Unnamed: 0                              150000 non-null int64\n",
      "SeriousDlqin2yrs                        150000 non-null int64\n",
      "RevolvingUtilizationOfUnsecuredLines    150000 non-null float64\n",
      "age                                     150000 non-null int64\n",
      "NumberOfTime30-59DaysPastDueNotWorse    150000 non-null int64\n",
      "DebtRatio                               150000 non-null float64\n",
      "MonthlyIncome                           120269 non-null float64\n",
      "NumberOfOpenCreditLinesAndLoans         150000 non-null int64\n",
      "NumberOfTimes90DaysLate                 150000 non-null int64\n",
      "NumberRealEstateLoansOrLines            150000 non-null int64\n",
      "NumberOfTime60-89DaysPastDueNotWorse    150000 non-null int64\n",
      "NumberOfDependents                      146076 non-null float64\n",
      "dtypes: float64(4), int64(8)\n",
      "memory usage: 13.7 MB\n"
     ]
    }
   ],
   "source": [
    "data.info()"
   ]
  },
  {
   "cell_type": "code",
   "execution_count": 279,
   "metadata": {},
   "outputs": [
    {
     "data": {
      "text/html": [
       "<div>\n",
       "<style scoped>\n",
       "    .dataframe tbody tr th:only-of-type {\n",
       "        vertical-align: middle;\n",
       "    }\n",
       "\n",
       "    .dataframe tbody tr th {\n",
       "        vertical-align: top;\n",
       "    }\n",
       "\n",
       "    .dataframe thead th {\n",
       "        text-align: right;\n",
       "    }\n",
       "</style>\n",
       "<table border=\"1\" class=\"dataframe\">\n",
       "  <thead>\n",
       "    <tr style=\"text-align: right;\">\n",
       "      <th></th>\n",
       "      <th>Unnamed: 0</th>\n",
       "      <th>SeriousDlqin2yrs</th>\n",
       "      <th>RevolvingUtilizationOfUnsecuredLines</th>\n",
       "      <th>age</th>\n",
       "      <th>NumberOfTime30-59DaysPastDueNotWorse</th>\n",
       "      <th>DebtRatio</th>\n",
       "      <th>MonthlyIncome</th>\n",
       "      <th>NumberOfOpenCreditLinesAndLoans</th>\n",
       "      <th>NumberOfTimes90DaysLate</th>\n",
       "      <th>NumberRealEstateLoansOrLines</th>\n",
       "      <th>NumberOfTime60-89DaysPastDueNotWorse</th>\n",
       "      <th>NumberOfDependents</th>\n",
       "    </tr>\n",
       "  </thead>\n",
       "  <tbody>\n",
       "    <tr>\n",
       "      <th>0</th>\n",
       "      <td>1</td>\n",
       "      <td>1</td>\n",
       "      <td>0.766</td>\n",
       "      <td>45</td>\n",
       "      <td>2</td>\n",
       "      <td>0.803</td>\n",
       "      <td>9120.000</td>\n",
       "      <td>13</td>\n",
       "      <td>0</td>\n",
       "      <td>6</td>\n",
       "      <td>0</td>\n",
       "      <td>2.000</td>\n",
       "    </tr>\n",
       "    <tr>\n",
       "      <th>1</th>\n",
       "      <td>2</td>\n",
       "      <td>0</td>\n",
       "      <td>0.957</td>\n",
       "      <td>40</td>\n",
       "      <td>0</td>\n",
       "      <td>0.122</td>\n",
       "      <td>2600.000</td>\n",
       "      <td>4</td>\n",
       "      <td>0</td>\n",
       "      <td>0</td>\n",
       "      <td>0</td>\n",
       "      <td>1.000</td>\n",
       "    </tr>\n",
       "    <tr>\n",
       "      <th>2</th>\n",
       "      <td>3</td>\n",
       "      <td>0</td>\n",
       "      <td>0.658</td>\n",
       "      <td>38</td>\n",
       "      <td>1</td>\n",
       "      <td>0.085</td>\n",
       "      <td>3042.000</td>\n",
       "      <td>2</td>\n",
       "      <td>1</td>\n",
       "      <td>0</td>\n",
       "      <td>0</td>\n",
       "      <td>0.000</td>\n",
       "    </tr>\n",
       "    <tr>\n",
       "      <th>3</th>\n",
       "      <td>4</td>\n",
       "      <td>0</td>\n",
       "      <td>0.234</td>\n",
       "      <td>30</td>\n",
       "      <td>0</td>\n",
       "      <td>0.036</td>\n",
       "      <td>3300.000</td>\n",
       "      <td>5</td>\n",
       "      <td>0</td>\n",
       "      <td>0</td>\n",
       "      <td>0</td>\n",
       "      <td>0.000</td>\n",
       "    </tr>\n",
       "    <tr>\n",
       "      <th>4</th>\n",
       "      <td>5</td>\n",
       "      <td>0</td>\n",
       "      <td>0.907</td>\n",
       "      <td>49</td>\n",
       "      <td>1</td>\n",
       "      <td>0.025</td>\n",
       "      <td>63588.000</td>\n",
       "      <td>7</td>\n",
       "      <td>0</td>\n",
       "      <td>1</td>\n",
       "      <td>0</td>\n",
       "      <td>0.000</td>\n",
       "    </tr>\n",
       "  </tbody>\n",
       "</table>\n",
       "</div>"
      ],
      "text/plain": [
       "   Unnamed: 0  SeriousDlqin2yrs  RevolvingUtilizationOfUnsecuredLines  age  \\\n",
       "0           1                 1                                 0.766   45   \n",
       "1           2                 0                                 0.957   40   \n",
       "2           3                 0                                 0.658   38   \n",
       "3           4                 0                                 0.234   30   \n",
       "4           5                 0                                 0.907   49   \n",
       "\n",
       "   NumberOfTime30-59DaysPastDueNotWorse  DebtRatio  MonthlyIncome  \\\n",
       "0                                     2      0.803       9120.000   \n",
       "1                                     0      0.122       2600.000   \n",
       "2                                     1      0.085       3042.000   \n",
       "3                                     0      0.036       3300.000   \n",
       "4                                     1      0.025      63588.000   \n",
       "\n",
       "   NumberOfOpenCreditLinesAndLoans  NumberOfTimes90DaysLate  \\\n",
       "0                               13                        0   \n",
       "1                                4                        0   \n",
       "2                                2                        1   \n",
       "3                                5                        0   \n",
       "4                                7                        0   \n",
       "\n",
       "   NumberRealEstateLoansOrLines  NumberOfTime60-89DaysPastDueNotWorse  \\\n",
       "0                             6                                     0   \n",
       "1                             0                                     0   \n",
       "2                             0                                     0   \n",
       "3                             0                                     0   \n",
       "4                             1                                     0   \n",
       "\n",
       "   NumberOfDependents  \n",
       "0               2.000  \n",
       "1               1.000  \n",
       "2               0.000  \n",
       "3               0.000  \n",
       "4               0.000  "
      ]
     },
     "execution_count": 279,
     "metadata": {},
     "output_type": "execute_result"
    }
   ],
   "source": [
    "data.head()"
   ]
  },
  {
   "cell_type": "code",
   "execution_count": 280,
   "metadata": {},
   "outputs": [
    {
     "data": {
      "text/plain": [
       "29731"
      ]
     },
     "execution_count": 280,
     "metadata": {},
     "output_type": "execute_result"
    }
   ],
   "source": [
    "data['MonthlyIncome'].isnull().sum()"
   ]
  },
  {
   "cell_type": "code",
   "execution_count": 281,
   "metadata": {},
   "outputs": [],
   "source": [
    "data['SeriousDlqin2yrs'] = data['SeriousDlqin2yrs'].astype('object')"
   ]
  },
  {
   "cell_type": "code",
   "execution_count": 282,
   "metadata": {},
   "outputs": [],
   "source": [
    "pd.set_option('display.float_format', lambda x: '%.3f' % x)"
   ]
  },
  {
   "cell_type": "code",
   "execution_count": 283,
   "metadata": {},
   "outputs": [
    {
     "data": {
      "text/html": [
       "<div>\n",
       "<style scoped>\n",
       "    .dataframe tbody tr th:only-of-type {\n",
       "        vertical-align: middle;\n",
       "    }\n",
       "\n",
       "    .dataframe tbody tr th {\n",
       "        vertical-align: top;\n",
       "    }\n",
       "\n",
       "    .dataframe thead th {\n",
       "        text-align: right;\n",
       "    }\n",
       "</style>\n",
       "<table border=\"1\" class=\"dataframe\">\n",
       "  <thead>\n",
       "    <tr style=\"text-align: right;\">\n",
       "      <th></th>\n",
       "      <th>Unnamed: 0</th>\n",
       "      <th>RevolvingUtilizationOfUnsecuredLines</th>\n",
       "      <th>age</th>\n",
       "      <th>NumberOfTime30-59DaysPastDueNotWorse</th>\n",
       "      <th>DebtRatio</th>\n",
       "      <th>MonthlyIncome</th>\n",
       "      <th>NumberOfOpenCreditLinesAndLoans</th>\n",
       "      <th>NumberOfTimes90DaysLate</th>\n",
       "      <th>NumberRealEstateLoansOrLines</th>\n",
       "      <th>NumberOfTime60-89DaysPastDueNotWorse</th>\n",
       "      <th>NumberOfDependents</th>\n",
       "    </tr>\n",
       "  </thead>\n",
       "  <tbody>\n",
       "    <tr>\n",
       "      <th>count</th>\n",
       "      <td>150000.000</td>\n",
       "      <td>150000.000</td>\n",
       "      <td>150000.000</td>\n",
       "      <td>150000.000</td>\n",
       "      <td>150000.000</td>\n",
       "      <td>120269.000</td>\n",
       "      <td>150000.000</td>\n",
       "      <td>150000.000</td>\n",
       "      <td>150000.000</td>\n",
       "      <td>150000.000</td>\n",
       "      <td>146076.000</td>\n",
       "    </tr>\n",
       "    <tr>\n",
       "      <th>mean</th>\n",
       "      <td>75000.500</td>\n",
       "      <td>6.048</td>\n",
       "      <td>52.295</td>\n",
       "      <td>0.421</td>\n",
       "      <td>353.005</td>\n",
       "      <td>6670.221</td>\n",
       "      <td>8.453</td>\n",
       "      <td>0.266</td>\n",
       "      <td>1.018</td>\n",
       "      <td>0.240</td>\n",
       "      <td>0.757</td>\n",
       "    </tr>\n",
       "    <tr>\n",
       "      <th>std</th>\n",
       "      <td>43301.415</td>\n",
       "      <td>249.755</td>\n",
       "      <td>14.772</td>\n",
       "      <td>4.193</td>\n",
       "      <td>2037.819</td>\n",
       "      <td>14384.674</td>\n",
       "      <td>5.146</td>\n",
       "      <td>4.169</td>\n",
       "      <td>1.130</td>\n",
       "      <td>4.155</td>\n",
       "      <td>1.115</td>\n",
       "    </tr>\n",
       "    <tr>\n",
       "      <th>min</th>\n",
       "      <td>1.000</td>\n",
       "      <td>0.000</td>\n",
       "      <td>0.000</td>\n",
       "      <td>0.000</td>\n",
       "      <td>0.000</td>\n",
       "      <td>0.000</td>\n",
       "      <td>0.000</td>\n",
       "      <td>0.000</td>\n",
       "      <td>0.000</td>\n",
       "      <td>0.000</td>\n",
       "      <td>0.000</td>\n",
       "    </tr>\n",
       "    <tr>\n",
       "      <th>25%</th>\n",
       "      <td>37500.750</td>\n",
       "      <td>0.030</td>\n",
       "      <td>41.000</td>\n",
       "      <td>0.000</td>\n",
       "      <td>0.175</td>\n",
       "      <td>3400.000</td>\n",
       "      <td>5.000</td>\n",
       "      <td>0.000</td>\n",
       "      <td>0.000</td>\n",
       "      <td>0.000</td>\n",
       "      <td>0.000</td>\n",
       "    </tr>\n",
       "    <tr>\n",
       "      <th>50%</th>\n",
       "      <td>75000.500</td>\n",
       "      <td>0.154</td>\n",
       "      <td>52.000</td>\n",
       "      <td>0.000</td>\n",
       "      <td>0.367</td>\n",
       "      <td>5400.000</td>\n",
       "      <td>8.000</td>\n",
       "      <td>0.000</td>\n",
       "      <td>1.000</td>\n",
       "      <td>0.000</td>\n",
       "      <td>0.000</td>\n",
       "    </tr>\n",
       "    <tr>\n",
       "      <th>75%</th>\n",
       "      <td>112500.250</td>\n",
       "      <td>0.559</td>\n",
       "      <td>63.000</td>\n",
       "      <td>0.000</td>\n",
       "      <td>0.868</td>\n",
       "      <td>8249.000</td>\n",
       "      <td>11.000</td>\n",
       "      <td>0.000</td>\n",
       "      <td>2.000</td>\n",
       "      <td>0.000</td>\n",
       "      <td>1.000</td>\n",
       "    </tr>\n",
       "    <tr>\n",
       "      <th>max</th>\n",
       "      <td>150000.000</td>\n",
       "      <td>50708.000</td>\n",
       "      <td>109.000</td>\n",
       "      <td>98.000</td>\n",
       "      <td>329664.000</td>\n",
       "      <td>3008750.000</td>\n",
       "      <td>58.000</td>\n",
       "      <td>98.000</td>\n",
       "      <td>54.000</td>\n",
       "      <td>98.000</td>\n",
       "      <td>20.000</td>\n",
       "    </tr>\n",
       "  </tbody>\n",
       "</table>\n",
       "</div>"
      ],
      "text/plain": [
       "       Unnamed: 0  RevolvingUtilizationOfUnsecuredLines        age  \\\n",
       "count  150000.000                            150000.000 150000.000   \n",
       "mean    75000.500                                 6.048     52.295   \n",
       "std     43301.415                               249.755     14.772   \n",
       "min         1.000                                 0.000      0.000   \n",
       "25%     37500.750                                 0.030     41.000   \n",
       "50%     75000.500                                 0.154     52.000   \n",
       "75%    112500.250                                 0.559     63.000   \n",
       "max    150000.000                             50708.000    109.000   \n",
       "\n",
       "       NumberOfTime30-59DaysPastDueNotWorse  DebtRatio  MonthlyIncome  \\\n",
       "count                            150000.000 150000.000     120269.000   \n",
       "mean                                  0.421    353.005       6670.221   \n",
       "std                                   4.193   2037.819      14384.674   \n",
       "min                                   0.000      0.000          0.000   \n",
       "25%                                   0.000      0.175       3400.000   \n",
       "50%                                   0.000      0.367       5400.000   \n",
       "75%                                   0.000      0.868       8249.000   \n",
       "max                                  98.000 329664.000    3008750.000   \n",
       "\n",
       "       NumberOfOpenCreditLinesAndLoans  NumberOfTimes90DaysLate  \\\n",
       "count                       150000.000               150000.000   \n",
       "mean                             8.453                    0.266   \n",
       "std                              5.146                    4.169   \n",
       "min                              0.000                    0.000   \n",
       "25%                              5.000                    0.000   \n",
       "50%                              8.000                    0.000   \n",
       "75%                             11.000                    0.000   \n",
       "max                             58.000                   98.000   \n",
       "\n",
       "       NumberRealEstateLoansOrLines  NumberOfTime60-89DaysPastDueNotWorse  \\\n",
       "count                    150000.000                            150000.000   \n",
       "mean                          1.018                                 0.240   \n",
       "std                           1.130                                 4.155   \n",
       "min                           0.000                                 0.000   \n",
       "25%                           0.000                                 0.000   \n",
       "50%                           1.000                                 0.000   \n",
       "75%                           2.000                                 0.000   \n",
       "max                          54.000                                98.000   \n",
       "\n",
       "       NumberOfDependents  \n",
       "count          146076.000  \n",
       "mean                0.757  \n",
       "std                 1.115  \n",
       "min                 0.000  \n",
       "25%                 0.000  \n",
       "50%                 0.000  \n",
       "75%                 1.000  \n",
       "max                20.000  "
      ]
     },
     "execution_count": 283,
     "metadata": {},
     "output_type": "execute_result"
    }
   ],
   "source": [
    "data.describe()"
   ]
  },
  {
   "cell_type": "code",
   "execution_count": 284,
   "metadata": {},
   "outputs": [],
   "source": [
    "data['DebtRatio'] = data['DebtRatio'].map(lambda x: float('0.0' + ''.join(str(x).split('.'))) if x > 1 and x < 100000 else x)"
   ]
  },
  {
   "cell_type": "code",
   "execution_count": 285,
   "metadata": {},
   "outputs": [],
   "source": [
    "data['DebtRatio'] = data['DebtRatio'].map(lambda x: float('0.0' + ''.join(str(x).split('.'))) if x >= 100000 else x)"
   ]
  },
  {
   "cell_type": "code",
   "execution_count": 286,
   "metadata": {},
   "outputs": [
    {
     "name": "stdout",
     "output_type": "stream",
     "text": [
      "14    0.000\n",
      "50    0.000\n",
      "73    0.000\n",
      "90    0.000\n",
      "298   0.000\n",
      "326   0.000\n",
      "508   0.000\n",
      "537   0.000\n",
      "605   0.000\n",
      "629   0.000\n",
      "Name: MonthlyIncome, dtype: float64\n",
      "73763    3008750.000\n",
      "137140   1794060.000\n",
      "111365   1560100.000\n",
      "50640    1072500.000\n",
      "122543    835040.000\n",
      "123291    730483.000\n",
      "93564     702500.000\n",
      "96549     699530.000\n",
      "119136    649587.000\n",
      "37078     629000.000\n",
      "Name: MonthlyIncome, dtype: float64\n"
     ]
    }
   ],
   "source": [
    "print(data['MonthlyIncome'].nsmallest(10))\n",
    "print(data['MonthlyIncome'].nlargest(10))"
   ]
  },
  {
   "cell_type": "code",
   "execution_count": 287,
   "metadata": {},
   "outputs": [],
   "source": [
    "data['MonthlyIncome'] = np.where((data['MonthlyIncome'] < 1000) | (data['MonthlyIncome'] > 1000000), np.NaN, data['MonthlyIncome']) "
   ]
  },
  {
   "cell_type": "code",
   "execution_count": 288,
   "metadata": {},
   "outputs": [],
   "source": [
    "data.drop('Unnamed: 0', axis=1, inplace=True)"
   ]
  },
  {
   "cell_type": "code",
   "execution_count": 289,
   "metadata": {},
   "outputs": [],
   "source": [
    "data['age'] = np.where((data['age'] < 21) | (data['age'] > 80), np.NaN, data['age'])"
   ]
  },
  {
   "cell_type": "code",
   "execution_count": 290,
   "metadata": {},
   "outputs": [],
   "source": [
    "a = 0.01\n",
    "data['Ratio'] = (data['NumberOfTimes90DaysLate'] + a) / (data['NumberOfTimes90DaysLate'] + \n",
    "                                                         data['NumberOfTime30-59DaysPastDueNotWorse'] + \n",
    "                                                        data['NumberOfTime60-89DaysPastDueNotWorse']) + a\n",
    "data['Ratio'].replace([np.inf, -np.inf], 0, inplace=True)"
   ]
  },
  {
   "cell_type": "code",
   "execution_count": 291,
   "metadata": {},
   "outputs": [],
   "source": [
    "data['NumberOfTimes90DaysLate_is_0'] = np.where(data['NumberOfTimes90DaysLate'] == 0, 1, 0).astype('object')\n",
    "data['RevolvingUtilizationOfUnsecuredLines_is_0'] = np.where(data['RevolvingUtilizationOfUnsecuredLines'] == 0, 1, 0).astype('object')"
   ]
  },
  {
   "cell_type": "code",
   "execution_count": 292,
   "metadata": {},
   "outputs": [
    {
     "name": "stdout",
     "output_type": "stream",
     "text": [
      "0     126018\n",
      "1      16033\n",
      "2       4598\n",
      "3       1754\n",
      "4        747\n",
      "5        342\n",
      "98       264\n",
      "6        140\n",
      "7         54\n",
      "8         25\n",
      "9         12\n",
      "96         5\n",
      "10         4\n",
      "12         2\n",
      "13         1\n",
      "11         1\n",
      "Name: NumberOfTime30-59DaysPastDueNotWorse, dtype: int64\n",
      "0     142396\n",
      "1       5731\n",
      "2       1118\n",
      "3        318\n",
      "98       264\n",
      "4        105\n",
      "5         34\n",
      "6         16\n",
      "7          9\n",
      "96         5\n",
      "8          2\n",
      "11         1\n",
      "9          1\n",
      "Name: NumberOfTime60-89DaysPastDueNotWorse, dtype: int64\n",
      "0     141662\n",
      "1       5243\n",
      "2       1555\n",
      "3        667\n",
      "4        291\n",
      "98       264\n",
      "5        131\n",
      "6         80\n",
      "7         38\n",
      "8         21\n",
      "9         19\n",
      "10         8\n",
      "11         5\n",
      "96         5\n",
      "13         4\n",
      "12         2\n",
      "14         2\n",
      "15         2\n",
      "17         1\n",
      "Name: NumberOfTimes90DaysLate, dtype: int64\n",
      "0.000     86902\n",
      "1.000     26316\n",
      "2.000     19522\n",
      "3.000      9483\n",
      "nan        3924\n",
      "4.000      2862\n",
      "5.000       746\n",
      "6.000       158\n",
      "7.000        51\n",
      "8.000        24\n",
      "9.000         5\n",
      "10.000        5\n",
      "13.000        1\n",
      "20.000        1\n",
      "Name: NumberOfDependents, dtype: int64\n"
     ]
    }
   ],
   "source": [
    "for i in ['NumberOfTime30-59DaysPastDueNotWorse', \n",
    "          'NumberOfTime60-89DaysPastDueNotWorse',\n",
    "          'NumberOfTimes90DaysLate',\n",
    "          'NumberOfDependents']:\n",
    "    print(data[i].value_counts(dropna=False))"
   ]
  },
  {
   "cell_type": "code",
   "execution_count": 293,
   "metadata": {},
   "outputs": [],
   "source": [
    "data.at[data['NumberOfTime30-59DaysPastDueNotWorse'].isin([96,98]), 'NumberOfTime30-59DaysPastDueNotWorse'] = -1\n",
    "data.loc[data['NumberOfTime30-59DaysPastDueNotWorse'] > 3, 'NumberOfTime30-59DaysPastDueNotWorse'] = 'more_3'\n",
    "data.at[data['NumberOfTime60-89DaysPastDueNotWorse'].isin([96,98]), 'NumberOfTime60-89DaysPastDueNotWorse'] = -1\n",
    "data.loc[data['NumberOfTime60-89DaysPastDueNotWorse'] > 3, 'NumberOfTime60-89DaysPastDueNotWorse'] = 'more_3'\n",
    "data.at[data['NumberOfTimes90DaysLate'].isin([96,98]), 'NumberOfTimes90DaysLate'] = -1\n",
    "data.loc[data['NumberOfTimes90DaysLate'] > 3, 'NumberOfTimes90DaysLate'] = 'more_3'"
   ]
  },
  {
   "cell_type": "code",
   "execution_count": null,
   "metadata": {},
   "outputs": [],
   "source": []
  },
  {
   "cell_type": "code",
   "execution_count": 294,
   "metadata": {},
   "outputs": [
    {
     "name": "stdout",
     "output_type": "stream",
     "text": [
      "0         126018\n",
      "1          16033\n",
      "2           4598\n",
      "3           1754\n",
      "more_3      1328\n",
      "-1           269\n",
      "Name: NumberOfTime30-59DaysPastDueNotWorse, dtype: int64\n",
      "0         142396\n",
      "1           5731\n",
      "2           1118\n",
      "3            318\n",
      "-1           269\n",
      "more_3       168\n",
      "Name: NumberOfTime60-89DaysPastDueNotWorse, dtype: int64\n",
      "0         141662\n",
      "1           5243\n",
      "2           1555\n",
      "3            667\n",
      "more_3       604\n",
      "-1           269\n",
      "Name: NumberOfTimes90DaysLate, dtype: int64\n",
      "0.000     86902\n",
      "1.000     26316\n",
      "2.000     19522\n",
      "3.000      9483\n",
      "nan        3924\n",
      "4.000      2862\n",
      "5.000       746\n",
      "6.000       158\n",
      "7.000        51\n",
      "8.000        24\n",
      "9.000         5\n",
      "10.000        5\n",
      "13.000        1\n",
      "20.000        1\n",
      "Name: NumberOfDependents, dtype: int64\n"
     ]
    }
   ],
   "source": [
    "for i in ['NumberOfTime30-59DaysPastDueNotWorse', \n",
    "          'NumberOfTime60-89DaysPastDueNotWorse',\n",
    "          'NumberOfTimes90DaysLate',\n",
    "          'NumberOfDependents']:\n",
    "    print(data[i].value_counts(dropna=False))"
   ]
  },
  {
   "cell_type": "code",
   "execution_count": 295,
   "metadata": {},
   "outputs": [],
   "source": [
    "train = data.sample(frac=0.7, random_state=200)\n",
    "test = data.drop(train.index)"
   ]
  },
  {
   "cell_type": "code",
   "execution_count": 296,
   "metadata": {},
   "outputs": [],
   "source": [
    "train['age'].fillna(train['age'].median(), inplace=True)\n",
    "test['age'].fillna(test['age'].median(), inplace=True)"
   ]
  },
  {
   "cell_type": "code",
   "execution_count": 297,
   "metadata": {},
   "outputs": [
    {
     "data": {
      "text/plain": [
       "0"
      ]
     },
     "execution_count": 297,
     "metadata": {},
     "output_type": "execute_result"
    }
   ],
   "source": [
    "train['age'].isnull().sum()"
   ]
  },
  {
   "cell_type": "code",
   "execution_count": 298,
   "metadata": {},
   "outputs": [],
   "source": [
    "train['MonthlyIncome'].fillna(train['MonthlyIncome'].median(), inplace=True)\n",
    "test['MonthlyIncome'].fillna(test['MonthlyIncome'].median(), inplace=True)"
   ]
  },
  {
   "cell_type": "code",
   "execution_count": 299,
   "metadata": {},
   "outputs": [],
   "source": [
    "train.at[train['NumberOfDependents'].isnull(), 'NumberOfDependents'] = 0\n",
    "train.loc[train['NumberOfDependents'] > 4, 'NumberOfDependents'] = 'more_4'\n",
    "test.at[test['NumberOfDependents'].isnull(), 'NumberOfDependents'] = 0\n",
    "test.loc[test['NumberOfDependents'] > 4, 'NumberOfDependents'] = 'more_4'"
   ]
  },
  {
   "cell_type": "code",
   "execution_count": 300,
   "metadata": {},
   "outputs": [
    {
     "data": {
      "text/plain": [
       "0.0       63701\n",
       "1.0       18344\n",
       "2.0       13663\n",
       "3.0        6582\n",
       "4.0        2021\n",
       "more_4      689\n",
       "Name: NumberOfDependents, dtype: int64"
      ]
     },
     "execution_count": 300,
     "metadata": {},
     "output_type": "execute_result"
    }
   ],
   "source": [
    "train['NumberOfDependents'].value_counts(dropna=False)"
   ]
  },
  {
   "cell_type": "code",
   "execution_count": 301,
   "metadata": {},
   "outputs": [
    {
     "data": {
      "text/plain": [
       "0    97985\n",
       "1     7015\n",
       "Name: SeriousDlqin2yrs, dtype: int64"
      ]
     },
     "execution_count": 301,
     "metadata": {},
     "output_type": "execute_result"
    }
   ],
   "source": [
    "train['SeriousDlqin2yrs'].value_counts(dropna=False)"
   ]
  },
  {
   "cell_type": "code",
   "execution_count": 302,
   "metadata": {},
   "outputs": [],
   "source": [
    "train['RevolvingUtilizationOfUnsecuredLines'] = np.where(train['RevolvingUtilizationOfUnsecuredLines'] > 2, np.NaN,\n",
    "                                                        train['RevolvingUtilizationOfUnsecuredLines'])\n",
    "test['RevolvingUtilizationOfUnsecuredLines'] = np.where(test['RevolvingUtilizationOfUnsecuredLines'] > 2, np.NaN,\n",
    "                                                        test['RevolvingUtilizationOfUnsecuredLines'])\n",
    "train['RevolvingUtilizationOfUnsecuredLines'].fillna(train['RevolvingUtilizationOfUnsecuredLines'].median(), inplace=True)\n",
    "test['RevolvingUtilizationOfUnsecuredLines'].fillna(test['RevolvingUtilizationOfUnsecuredLines'].median(), inplace=True)"
   ]
  },
  {
   "cell_type": "code",
   "execution_count": 303,
   "metadata": {},
   "outputs": [],
   "source": [
    "for i in ['DebtRatio', \n",
    "          'MonthlyIncome', \n",
    "          'NumberOfOpenCreditLinesAndLoans', \n",
    "          'NumberRealEstateLoansOrLines']:\n",
    "    train[i].replace({0:0.01}, inplace=True)\n",
    "    test[i].replace({0:0.01}, inplace=True)"
   ]
  },
  {
   "cell_type": "code",
   "execution_count": 304,
   "metadata": {},
   "outputs": [],
   "source": [
    "for i in ['DebtRatio', \n",
    "          'MonthlyIncome', \n",
    "          'NumberOfOpenCreditLinesAndLoans', \n",
    "          'NumberRealEstateLoansOrLines']:\n",
    "    train[i], fitted_lambda = boxcox(train[i])\n",
    "    test[i] =  boxcox(test[i], fitted_lambda)"
   ]
  },
  {
   "cell_type": "code",
   "execution_count": 305,
   "metadata": {},
   "outputs": [],
   "source": [
    "# пишем функцию, вычисляющую IV по всем \n",
    "# количественным предикторам\n",
    "def numeric_IV(df): \n",
    "    # создаем список, в который будем записывать IV\n",
    "    iv_list = []\n",
    "    # создаем копию датафрейма\n",
    "    df = df.copy()\n",
    "    # записываем константу, которую будем добавлять,\n",
    "    # чтобы избежать деления на 0\n",
    "    a= 0.0001\n",
    "    # задаем зависимую переменную\n",
    "    target = df['SeriousDlqin2yrs'].astype('str')\n",
    "    # отбираем столбцы, у которых больше 10 уникальных значений\n",
    "    df = df.loc[:, df.apply(pd.Series.nunique) > 5]\n",
    "    # из этих столбцов отбираем только количественные\n",
    "    numerical_columns = df.select_dtypes(include=['number']).columns\n",
    "    # запускаем цикл, который вычисляет IV по каждой \n",
    "    # выбранной переменной\n",
    "    for var_name in numerical_columns:\n",
    "        # разбиваем переменную на 10 квантилей\n",
    "        df[var_name] = pd.qcut(df[var_name].values, 10, duplicates='drop').codes\n",
    "        # строим таблицу сопряженности между категоризированной \n",
    "        # переменной и зависимой переменной\n",
    "        biv = pd.crosstab(df[var_name], target)        \n",
    "        # вычисляем IV на основе таблицы сопряженности\n",
    "        IV = sum(((1.0 * biv['0'] / sum(biv['0']) + a) - (1.0 * biv['1'] / sum(biv['1']) + a)) *\n",
    "                 np.log((1.0 * biv['0'] / sum(biv['0']) + a) / (1.0 * \n",
    "                                                                biv['1'] / sum(biv['1']) + a)))\n",
    "        # добавляем вычисленное IV в список, где хранятся IV\n",
    "        iv_list.append(IV)\n",
    "    # создаем список с названиями столбцов\n",
    "    col_list = list(numerical_columns)\n",
    "    # создаем датафрейм с двумя столбцами, в одном - названия переменных,\n",
    "    # в другом - IV этих переменных\n",
    "    result = pd.DataFrame({'Название переменной' : col_list,'IV' : iv_list})\n",
    "    # добавляем дополнительный столбец \"Полезность\", задаем строковые значения,\n",
    "    # которые будут выводится в зависимости от величины IV\n",
    "    result['Полезность'] = ['Подозрительно высокая' if x > 0.5 else 'Сильная' \n",
    "                            if x <= 0.5 and x > 0.3 else 'Средняя'\n",
    "                            if x <= 0.3 and x > 0.1 else 'Слабая' \n",
    "                            if x <= 0.1 and x > 0.02 else 'Бесполезная' \n",
    "                            for x in result['IV']]  # по Наиму Сиддики\n",
    "    # возвращаем датафрейм, отсортированный по убыванию IV\n",
    "    return(result.sort_values(by='IV', ascending=False))"
   ]
  },
  {
   "cell_type": "code",
   "execution_count": 306,
   "metadata": {},
   "outputs": [
    {
     "data": {
      "text/html": [
       "<div>\n",
       "<style scoped>\n",
       "    .dataframe tbody tr th:only-of-type {\n",
       "        vertical-align: middle;\n",
       "    }\n",
       "\n",
       "    .dataframe tbody tr th {\n",
       "        vertical-align: top;\n",
       "    }\n",
       "\n",
       "    .dataframe thead th {\n",
       "        text-align: right;\n",
       "    }\n",
       "</style>\n",
       "<table border=\"1\" class=\"dataframe\">\n",
       "  <thead>\n",
       "    <tr style=\"text-align: right;\">\n",
       "      <th></th>\n",
       "      <th>Название переменной</th>\n",
       "      <th>IV</th>\n",
       "      <th>Полезность</th>\n",
       "    </tr>\n",
       "  </thead>\n",
       "  <tbody>\n",
       "    <tr>\n",
       "      <th>6</th>\n",
       "      <td>Ratio</td>\n",
       "      <td>1.259</td>\n",
       "      <td>Подозрительно высокая</td>\n",
       "    </tr>\n",
       "    <tr>\n",
       "      <th>0</th>\n",
       "      <td>RevolvingUtilizationOfUnsecuredLines</td>\n",
       "      <td>1.099</td>\n",
       "      <td>Подозрительно высокая</td>\n",
       "    </tr>\n",
       "    <tr>\n",
       "      <th>1</th>\n",
       "      <td>age</td>\n",
       "      <td>0.236</td>\n",
       "      <td>Средняя</td>\n",
       "    </tr>\n",
       "    <tr>\n",
       "      <th>3</th>\n",
       "      <td>MonthlyIncome</td>\n",
       "      <td>0.084</td>\n",
       "      <td>Слабая</td>\n",
       "    </tr>\n",
       "    <tr>\n",
       "      <th>4</th>\n",
       "      <td>NumberOfOpenCreditLinesAndLoans</td>\n",
       "      <td>0.067</td>\n",
       "      <td>Слабая</td>\n",
       "    </tr>\n",
       "    <tr>\n",
       "      <th>2</th>\n",
       "      <td>DebtRatio</td>\n",
       "      <td>0.043</td>\n",
       "      <td>Слабая</td>\n",
       "    </tr>\n",
       "    <tr>\n",
       "      <th>5</th>\n",
       "      <td>NumberRealEstateLoansOrLines</td>\n",
       "      <td>0.012</td>\n",
       "      <td>Бесполезная</td>\n",
       "    </tr>\n",
       "  </tbody>\n",
       "</table>\n",
       "</div>"
      ],
      "text/plain": [
       "                    Название переменной    IV             Полезность\n",
       "6                                 Ratio 1.259  Подозрительно высокая\n",
       "0  RevolvingUtilizationOfUnsecuredLines 1.099  Подозрительно высокая\n",
       "1                                   age 0.236                Средняя\n",
       "3                         MonthlyIncome 0.084                 Слабая\n",
       "4       NumberOfOpenCreditLinesAndLoans 0.067                 Слабая\n",
       "2                             DebtRatio 0.043                 Слабая\n",
       "5          NumberRealEstateLoansOrLines 0.012            Бесполезная"
      ]
     },
     "execution_count": 306,
     "metadata": {},
     "output_type": "execute_result"
    }
   ],
   "source": [
    "numeric_IV(train)"
   ]
  },
  {
   "cell_type": "code",
   "execution_count": 307,
   "metadata": {},
   "outputs": [],
   "source": [
    "def user_bin(df, number):    \n",
    "    # увеличиваем максимальную ширину столбца\n",
    "    pd.set_option('max_colwidth', 800) \n",
    "    # задаем список, где будут хранится IV\n",
    "    iv_list = []\n",
    "    # задаем список, где будет хранится информация о количестве бинов\n",
    "    bins_list = [] \n",
    "    # задаем список, где будет хранится информация о бинах\n",
    "    groups_list = []  \n",
    "    # записываем константу, которую будем добавлять,\n",
    "    # чтобы избежать деления на 0\n",
    "    a = 0.0001\n",
    "    # задаем зависимую переменную\n",
    "    target = df['SeriousDlqin2yrs'].astype('str')\n",
    "    # отбираем столбцы, у которых больше 10 уникальных значений\n",
    "    df = df.loc[:, df.apply(pd.Series.nunique) > 5]\n",
    "    # из этих столбцов отбираем только количественные\n",
    "    numerical_columns = df.select_dtypes(include=['number']).columns    \n",
    "    # запускаем цикл, который вычисляет IV по каждой \n",
    "    # выбранной переменной\n",
    "    for var_name in numerical_columns:  \n",
    "        # фиксируем количество бинов\n",
    "        num = number\n",
    "        # создаем точки разбиения\n",
    "        bins = np.linspace(df[var_name].min(), df[var_name].max(), num) \n",
    "        # округляем значения точек разбиения\n",
    "        rounded_bins = np.round(bins, 2)\n",
    "        # создаем бины\n",
    "        groups = np.digitize(df[var_name], rounded_bins)\n",
    "        # строим таблицу сопряженности между категоризированной \n",
    "        # переменной и зависимой переменной\n",
    "        biv = pd.crosstab(groups, target)\n",
    "        # вычисляем IV на основе таблицы сопряженности        \n",
    "        IV = sum(((1.0 * biv['0'] / sum(biv['0']) + a) - (1.0 * biv['1'] / sum(biv['1']) + a)) * \n",
    "                 np.log((1.0 * biv['0'] / sum(biv['0']) + a) / (1.0 * \n",
    "                                                                biv['1'] / sum(biv['1']) + a)))\n",
    "        # добавляем вычисленное IV в список, где хранятся IV\n",
    "        iv_list.append(IV) \n",
    "        # добавляем информацию о количестве бинов в список, где хранится\n",
    "        # информация о количестве бинов\n",
    "        bins_list.append(num)\n",
    "        # добавляем бины в список, где хранится \n",
    "        # информация о бинах\n",
    "        groups_list.append(rounded_bins)\n",
    "    # создаем список с названиями столбцов    \n",
    "    col_list = list(numerical_columns) \n",
    "    # создаем датафрейм с четырьмя столбцами, в первом - названия переменных,\n",
    "    # во втором - бины, в третьем - IV, в четвертом - количество бинов\n",
    "    result = pd.DataFrame({'Переменная' : col_list, \n",
    "                           'Бины': groups_list, \n",
    "                           'IV' : iv_list,\n",
    "                           'Количество_бинов' : bins_list})    \n",
    "    # возвращаем датафрейм, отсортированный по убыванию IV\n",
    "    return(result.sort_values(by='IV', ascending=False))"
   ]
  },
  {
   "cell_type": "code",
   "execution_count": 308,
   "metadata": {},
   "outputs": [
    {
     "data": {
      "text/html": [
       "<div>\n",
       "<style scoped>\n",
       "    .dataframe tbody tr th:only-of-type {\n",
       "        vertical-align: middle;\n",
       "    }\n",
       "\n",
       "    .dataframe tbody tr th {\n",
       "        vertical-align: top;\n",
       "    }\n",
       "\n",
       "    .dataframe thead th {\n",
       "        text-align: right;\n",
       "    }\n",
       "</style>\n",
       "<table border=\"1\" class=\"dataframe\">\n",
       "  <thead>\n",
       "    <tr style=\"text-align: right;\">\n",
       "      <th></th>\n",
       "      <th>Переменная</th>\n",
       "      <th>Бины</th>\n",
       "      <th>IV</th>\n",
       "      <th>Количество_бинов</th>\n",
       "    </tr>\n",
       "  </thead>\n",
       "  <tbody>\n",
       "    <tr>\n",
       "      <th>0</th>\n",
       "      <td>RevolvingUtilizationOfUnsecuredLines</td>\n",
       "      <td>[0.0, 0.29, 0.57, 0.86, 1.14, 1.43, 1.71, 2.0]</td>\n",
       "      <td>1.062</td>\n",
       "      <td>8</td>\n",
       "    </tr>\n",
       "    <tr>\n",
       "      <th>6</th>\n",
       "      <td>Ratio</td>\n",
       "      <td>[0.0, 0.15, 0.29, 0.44, 0.58, 0.73, 0.87, 1.02]</td>\n",
       "      <td>0.845</td>\n",
       "      <td>8</td>\n",
       "    </tr>\n",
       "    <tr>\n",
       "      <th>1</th>\n",
       "      <td>age</td>\n",
       "      <td>[21.0, 29.43, 37.86, 46.29, 54.71, 63.14, 71.57, 80.0]</td>\n",
       "      <td>0.230</td>\n",
       "      <td>8</td>\n",
       "    </tr>\n",
       "    <tr>\n",
       "      <th>4</th>\n",
       "      <td>NumberOfOpenCreditLinesAndLoans</td>\n",
       "      <td>[-1.78, 0.41, 2.59, 4.78, 6.97, 9.15, 11.34, 13.52]</td>\n",
       "      <td>0.092</td>\n",
       "      <td>8</td>\n",
       "    </tr>\n",
       "    <tr>\n",
       "      <th>3</th>\n",
       "      <td>MonthlyIncome</td>\n",
       "      <td>[5.86, 6.43, 7.0, 7.57, 8.14, 8.71, 9.28, 9.85]</td>\n",
       "      <td>0.074</td>\n",
       "      <td>8</td>\n",
       "    </tr>\n",
       "    <tr>\n",
       "      <th>5</th>\n",
       "      <td>NumberRealEstateLoansOrLines</td>\n",
       "      <td>[-2.94, -1.63, -0.31, 1.01, 2.32, 3.64, 4.95, 6.27]</td>\n",
       "      <td>0.062</td>\n",
       "      <td>8</td>\n",
       "    </tr>\n",
       "    <tr>\n",
       "      <th>2</th>\n",
       "      <td>DebtRatio</td>\n",
       "      <td>[-3.45, -2.96, -2.46, -1.97, -1.48, -0.99, -0.49, 0.0]</td>\n",
       "      <td>0.045</td>\n",
       "      <td>8</td>\n",
       "    </tr>\n",
       "  </tbody>\n",
       "</table>\n",
       "</div>"
      ],
      "text/plain": [
       "                             Переменная  \\\n",
       "0  RevolvingUtilizationOfUnsecuredLines   \n",
       "6                                 Ratio   \n",
       "1                                   age   \n",
       "4       NumberOfOpenCreditLinesAndLoans   \n",
       "3                         MonthlyIncome   \n",
       "5          NumberRealEstateLoansOrLines   \n",
       "2                             DebtRatio   \n",
       "\n",
       "                                                     Бины    IV  \\\n",
       "0          [0.0, 0.29, 0.57, 0.86, 1.14, 1.43, 1.71, 2.0] 1.062   \n",
       "6         [0.0, 0.15, 0.29, 0.44, 0.58, 0.73, 0.87, 1.02] 0.845   \n",
       "1  [21.0, 29.43, 37.86, 46.29, 54.71, 63.14, 71.57, 80.0] 0.230   \n",
       "4     [-1.78, 0.41, 2.59, 4.78, 6.97, 9.15, 11.34, 13.52] 0.092   \n",
       "3         [5.86, 6.43, 7.0, 7.57, 8.14, 8.71, 9.28, 9.85] 0.074   \n",
       "5     [-2.94, -1.63, -0.31, 1.01, 2.32, 3.64, 4.95, 6.27] 0.062   \n",
       "2  [-3.45, -2.96, -2.46, -1.97, -1.48, -0.99, -0.49, 0.0] 0.045   \n",
       "\n",
       "   Количество_бинов  \n",
       "0                 8  \n",
       "6                 8  \n",
       "1                 8  \n",
       "4                 8  \n",
       "3                 8  \n",
       "5                 8  \n",
       "2                 8  "
      ]
     },
     "execution_count": 308,
     "metadata": {},
     "output_type": "execute_result"
    }
   ],
   "source": [
    "user_bin(train,8)"
   ]
  },
  {
   "cell_type": "code",
   "execution_count": 309,
   "metadata": {},
   "outputs": [],
   "source": [
    "bins = [-np.inf,  6.43, 7.0, 7.57, 8.14, 8.71, 9.28, np.inf]\n",
    "train['incomecat'] = pd.cut(train['MonthlyIncome'], bins).astype('object')\n",
    "test['incomecat'] = pd.cut(test['MonthlyIncome'], bins).astype('object')"
   ]
  },
  {
   "cell_type": "code",
   "execution_count": 310,
   "metadata": {},
   "outputs": [],
   "source": [
    "bins = [-np.inf, -2.96, -2.46, -1.97, -1.48, -0.99, -0.49, np.inf]\n",
    "train['debtcat'] = pd.cut(train['DebtRatio'], bins).astype('object')\n",
    "test['debtcat'] = pd.cut(test['DebtRatio'], bins).astype('object')"
   ]
  },
  {
   "cell_type": "code",
   "execution_count": 311,
   "metadata": {},
   "outputs": [],
   "source": [
    "bins = [-np.inf,  -1.63, -0.31, 1.01, 2.32, 3.64, 4.95, np.inf]\n",
    "train['linescat'] = pd.cut(train['NumberRealEstateLoansOrLines'], bins).astype('object')\n",
    "test['linescat'] = pd.cut(test['NumberRealEstateLoansOrLines'], bins).astype('object')"
   ]
  },
  {
   "cell_type": "code",
   "execution_count": 312,
   "metadata": {},
   "outputs": [],
   "source": [
    "num_cols = [c for c in train.columns if train[c].dtype.name != 'object']\n",
    "train_copy = train.copy()\n",
    "for i in num_cols:\n",
    "    train[i] = (train[i] - train[i].mean()) / train[i].std()\n",
    "    test[i] = (test[i] - train_copy[i].mean()) / train_copy[i].std()"
   ]
  },
  {
   "cell_type": "code",
   "execution_count": 313,
   "metadata": {},
   "outputs": [
    {
     "name": "stdout",
     "output_type": "stream",
     "text": [
      "<class 'pandas.core.frame.DataFrame'>\n",
      "Int64Index: 105000 entries, 58185 to 126885\n",
      "Data columns (total 17 columns):\n",
      "SeriousDlqin2yrs                             105000 non-null object\n",
      "RevolvingUtilizationOfUnsecuredLines         105000 non-null float64\n",
      "age                                          105000 non-null float64\n",
      "NumberOfTime30-59DaysPastDueNotWorse         105000 non-null object\n",
      "DebtRatio                                    105000 non-null float64\n",
      "MonthlyIncome                                105000 non-null float64\n",
      "NumberOfOpenCreditLinesAndLoans              105000 non-null float64\n",
      "NumberOfTimes90DaysLate                      105000 non-null object\n",
      "NumberRealEstateLoansOrLines                 105000 non-null float64\n",
      "NumberOfTime60-89DaysPastDueNotWorse         105000 non-null object\n",
      "NumberOfDependents                           105000 non-null object\n",
      "Ratio                                        105000 non-null float64\n",
      "NumberOfTimes90DaysLate_is_0                 105000 non-null object\n",
      "RevolvingUtilizationOfUnsecuredLines_is_0    105000 non-null object\n",
      "incomecat                                    105000 non-null object\n",
      "debtcat                                      105000 non-null object\n",
      "linescat                                     105000 non-null object\n",
      "dtypes: float64(7), object(10)\n",
      "memory usage: 14.4+ MB\n",
      "None\n",
      "<class 'pandas.core.frame.DataFrame'>\n",
      "Int64Index: 45000 entries, 0 to 149999\n",
      "Data columns (total 17 columns):\n",
      "SeriousDlqin2yrs                             45000 non-null object\n",
      "RevolvingUtilizationOfUnsecuredLines         45000 non-null float64\n",
      "age                                          45000 non-null float64\n",
      "NumberOfTime30-59DaysPastDueNotWorse         45000 non-null object\n",
      "DebtRatio                                    45000 non-null float64\n",
      "MonthlyIncome                                45000 non-null float64\n",
      "NumberOfOpenCreditLinesAndLoans              45000 non-null float64\n",
      "NumberOfTimes90DaysLate                      45000 non-null object\n",
      "NumberRealEstateLoansOrLines                 45000 non-null float64\n",
      "NumberOfTime60-89DaysPastDueNotWorse         45000 non-null object\n",
      "NumberOfDependents                           45000 non-null object\n",
      "Ratio                                        45000 non-null float64\n",
      "NumberOfTimes90DaysLate_is_0                 45000 non-null object\n",
      "RevolvingUtilizationOfUnsecuredLines_is_0    45000 non-null object\n",
      "incomecat                                    45000 non-null object\n",
      "debtcat                                      45000 non-null object\n",
      "linescat                                     45000 non-null object\n",
      "dtypes: float64(7), object(10)\n",
      "memory usage: 6.2+ MB\n",
      "None\n"
     ]
    }
   ],
   "source": [
    "print(train.info())\n",
    "print(test.info())"
   ]
  },
  {
   "cell_type": "code",
   "execution_count": 314,
   "metadata": {},
   "outputs": [
    {
     "name": "stdout",
     "output_type": "stream",
     "text": [
      "Исходные переменные ['SeriousDlqin2yrs', 'RevolvingUtilizationOfUnsecuredLines', 'age', 'NumberOfTime30-59DaysPastDueNotWorse', 'DebtRatio', 'MonthlyIncome', 'NumberOfOpenCreditLinesAndLoans', 'NumberOfTimes90DaysLate', 'NumberRealEstateLoansOrLines', 'NumberOfTime60-89DaysPastDueNotWorse', 'NumberOfDependents', 'Ratio', 'NumberOfTimes90DaysLate_is_0', 'RevolvingUtilizationOfUnsecuredLines_is_0', 'incomecat', 'debtcat', 'linescat'] \n",
      "\n",
      "Переменные после дамми ['RevolvingUtilizationOfUnsecuredLines', 'age', 'DebtRatio', 'MonthlyIncome', 'NumberOfOpenCreditLinesAndLoans', 'NumberRealEstateLoansOrLines', 'Ratio', 'SeriousDlqin2yrs_0', 'SeriousDlqin2yrs_1', 'NumberOfTime30-59DaysPastDueNotWorse_-1', 'NumberOfTime30-59DaysPastDueNotWorse_0', 'NumberOfTime30-59DaysPastDueNotWorse_1', 'NumberOfTime30-59DaysPastDueNotWorse_2', 'NumberOfTime30-59DaysPastDueNotWorse_3', 'NumberOfTime30-59DaysPastDueNotWorse_more_3', 'NumberOfTimes90DaysLate_-1', 'NumberOfTimes90DaysLate_0', 'NumberOfTimes90DaysLate_1', 'NumberOfTimes90DaysLate_2', 'NumberOfTimes90DaysLate_3', 'NumberOfTimes90DaysLate_more_3', 'NumberOfTime60-89DaysPastDueNotWorse_-1', 'NumberOfTime60-89DaysPastDueNotWorse_0', 'NumberOfTime60-89DaysPastDueNotWorse_1', 'NumberOfTime60-89DaysPastDueNotWorse_2', 'NumberOfTime60-89DaysPastDueNotWorse_3', 'NumberOfTime60-89DaysPastDueNotWorse_more_3', 'NumberOfDependents_0.0', 'NumberOfDependents_1.0', 'NumberOfDependents_2.0', 'NumberOfDependents_3.0', 'NumberOfDependents_4.0', 'NumberOfDependents_more_4', 'NumberOfTimes90DaysLate_is_0_0', 'NumberOfTimes90DaysLate_is_0_1', 'RevolvingUtilizationOfUnsecuredLines_is_0_0', 'RevolvingUtilizationOfUnsecuredLines_is_0_1', 'incomecat_(-inf, 6.43]', 'incomecat_(6.43, 7.0]', 'incomecat_(7.0, 7.57]', 'incomecat_(7.57, 8.14]', 'incomecat_(8.14, 8.71]', 'incomecat_(8.71, 9.28]', 'incomecat_(9.28, inf]', 'debtcat_(-inf, -2.96]', 'debtcat_(-2.96, -2.46]', 'debtcat_(-2.46, -1.97]', 'debtcat_(-1.97, -1.48]', 'debtcat_(-1.48, -0.99]', 'debtcat_(-0.99, -0.49]', 'debtcat_(-0.49, inf]', 'linescat_(-inf, -1.63]', 'linescat_(-0.31, 1.01]', 'linescat_(1.01, 2.32]', 'linescat_(2.32, 3.64]', 'linescat_(3.64, 4.95]', 'linescat_(4.95, inf]'] \n",
      "\n",
      "Исходные переменные ['SeriousDlqin2yrs', 'RevolvingUtilizationOfUnsecuredLines', 'age', 'NumberOfTime30-59DaysPastDueNotWorse', 'DebtRatio', 'MonthlyIncome', 'NumberOfOpenCreditLinesAndLoans', 'NumberOfTimes90DaysLate', 'NumberRealEstateLoansOrLines', 'NumberOfTime60-89DaysPastDueNotWorse', 'NumberOfDependents', 'Ratio', 'NumberOfTimes90DaysLate_is_0', 'RevolvingUtilizationOfUnsecuredLines_is_0', 'incomecat', 'debtcat', 'linescat'] \n",
      "\n",
      "Переменные после дамми ['RevolvingUtilizationOfUnsecuredLines', 'age', 'DebtRatio', 'MonthlyIncome', 'NumberOfOpenCreditLinesAndLoans', 'NumberRealEstateLoansOrLines', 'Ratio', 'SeriousDlqin2yrs_0', 'SeriousDlqin2yrs_1', 'NumberOfTime30-59DaysPastDueNotWorse_-1', 'NumberOfTime30-59DaysPastDueNotWorse_0', 'NumberOfTime30-59DaysPastDueNotWorse_1', 'NumberOfTime30-59DaysPastDueNotWorse_2', 'NumberOfTime30-59DaysPastDueNotWorse_3', 'NumberOfTime30-59DaysPastDueNotWorse_more_3', 'NumberOfTimes90DaysLate_-1', 'NumberOfTimes90DaysLate_0', 'NumberOfTimes90DaysLate_1', 'NumberOfTimes90DaysLate_2', 'NumberOfTimes90DaysLate_3', 'NumberOfTimes90DaysLate_more_3', 'NumberOfTime60-89DaysPastDueNotWorse_-1', 'NumberOfTime60-89DaysPastDueNotWorse_0', 'NumberOfTime60-89DaysPastDueNotWorse_1', 'NumberOfTime60-89DaysPastDueNotWorse_2', 'NumberOfTime60-89DaysPastDueNotWorse_3', 'NumberOfTime60-89DaysPastDueNotWorse_more_3', 'NumberOfDependents_0.0', 'NumberOfDependents_1.0', 'NumberOfDependents_2.0', 'NumberOfDependents_3.0', 'NumberOfDependents_4.0', 'NumberOfDependents_more_4', 'NumberOfTimes90DaysLate_is_0_0', 'NumberOfTimes90DaysLate_is_0_1', 'RevolvingUtilizationOfUnsecuredLines_is_0_0', 'RevolvingUtilizationOfUnsecuredLines_is_0_1', 'incomecat_(-inf, 6.43]', 'incomecat_(6.43, 7.0]', 'incomecat_(7.0, 7.57]', 'incomecat_(7.57, 8.14]', 'incomecat_(8.14, 8.71]', 'incomecat_(8.71, 9.28]', 'incomecat_(9.28, inf]', 'debtcat_(-inf, -2.96]', 'debtcat_(-2.96, -2.46]', 'debtcat_(-2.46, -1.97]', 'debtcat_(-1.97, -1.48]', 'debtcat_(-1.48, -0.99]', 'debtcat_(-0.99, -0.49]', 'debtcat_(-0.49, inf]', 'linescat_(-inf, -1.63]', 'linescat_(-0.31, 1.01]', 'linescat_(1.01, 2.32]', 'linescat_(2.32, 3.64]', 'linescat_(3.64, 4.95]']\n"
     ]
    }
   ],
   "source": [
    "print('Исходные переменные', list(train.columns), '\\n')\n",
    "train_dumm = pd.get_dummies(train)\n",
    "print('Переменные после дамми', list(train_dumm.columns), '\\n')\n",
    "print('Исходные переменные', list(test.columns), '\\n')\n",
    "test_dumm = pd.get_dummies(test)\n",
    "print('Переменные после дамми', list(test_dumm.columns))"
   ]
  },
  {
   "cell_type": "code",
   "execution_count": 315,
   "metadata": {},
   "outputs": [],
   "source": [
    "y_tr = train_dumm.loc[:, 'SeriousDlqin2yrs_1']\n",
    "y_tst = test_dumm.loc[:, 'SeriousDlqin2yrs_1']"
   ]
  },
  {
   "cell_type": "code",
   "execution_count": 316,
   "metadata": {},
   "outputs": [],
   "source": [
    "train_dumm = train_dumm.drop(['SeriousDlqin2yrs_0', 'SeriousDlqin2yrs_1'], axis=1)\n",
    "test_dumm = test_dumm.drop(['SeriousDlqin2yrs_0', 'SeriousDlqin2yrs_1'], axis=1)"
   ]
  },
  {
   "cell_type": "code",
   "execution_count": 317,
   "metadata": {},
   "outputs": [],
   "source": [
    "X_tr = train_dumm.loc[:, 'RevolvingUtilizationOfUnsecuredLines':'linescat_(3.64, 4.95]']\n",
    "X_tst = test_dumm.loc[:, 'RevolvingUtilizationOfUnsecuredLines':'linescat_(3.64, 4.95]']"
   ]
  },
  {
   "cell_type": "code",
   "execution_count": 318,
   "metadata": {},
   "outputs": [
    {
     "name": "stdout",
     "output_type": "stream",
     "text": [
      "AUC на обучающей выборке: 0.86190\n",
      "AUC на тестовой выборке: 0.86204\n"
     ]
    }
   ],
   "source": [
    "logreg = LogisticRegression(solver='saga', max_iter=500, random_state=42).fit(X_tr, y_tr)\n",
    "print('AUC на обучающей выборке: {:.5f}'.format(roc_auc_score(y_tr, logreg.predict_proba(X_tr)[:,1])))\n",
    "print('AUC на тестовой выборке: {:.5f}'.format(roc_auc_score(y_tst, logreg.predict_proba(X_tst)[:,1])))"
   ]
  },
  {
   "cell_type": "code",
   "execution_count": 319,
   "metadata": {},
   "outputs": [],
   "source": [
    "from sklearn.ensemble import RandomForestClassifier"
   ]
  },
  {
   "cell_type": "code",
   "execution_count": 320,
   "metadata": {},
   "outputs": [],
   "source": [
    "#forest = RandomForestClassifier(n_estimators=800, max_depth=17, random_state=152, n_jobs=-1)"
   ]
  },
  {
   "cell_type": "code",
   "execution_count": 321,
   "metadata": {},
   "outputs": [
    {
     "data": {
      "text/plain": [
       "\"forest.fit(X_tr, y_tr)\\nprint('AUC на обучающей выборке по обычному методу: {:.5f}'.\\n      format(roc_auc_score(y_tr, forest.predict_proba(X_tr)[:, 1])))\\nprint('AUC на контрольной выборке: {:.5f}'.\\n      format(roc_auc_score(y_tst, forest.predict_proba(X_tst)[:,1])))\""
      ]
     },
     "execution_count": 321,
     "metadata": {},
     "output_type": "execute_result"
    }
   ],
   "source": [
    "\"\"\"forest.fit(X_tr, y_tr)\n",
    "print('AUC на обучающей выборке по обычному методу: {:.5f}'.\n",
    "      format(roc_auc_score(y_tr, forest.predict_proba(X_tr)[:, 1])))\n",
    "print('AUC на контрольной выборке: {:.5f}'.\n",
    "      format(roc_auc_score(y_tst, forest.predict_proba(X_tst)[:,1])))\"\"\""
   ]
  },
  {
   "cell_type": "code",
   "execution_count": 322,
   "metadata": {},
   "outputs": [],
   "source": [
    "#Случайный лес сработал на обучающей лучше чем логистическая регрессия, но на тестовой чуть хуже"
   ]
  },
  {
   "cell_type": "code",
   "execution_count": null,
   "metadata": {},
   "outputs": [],
   "source": []
  },
  {
   "cell_type": "code",
   "execution_count": 323,
   "metadata": {},
   "outputs": [],
   "source": [
    "#import h2o # установить Java8"
   ]
  },
  {
   "cell_type": "code",
   "execution_count": 324,
   "metadata": {},
   "outputs": [],
   "source": [
    "#h2o.init(nthreads=-1, max_mem_size=8)"
   ]
  },
  {
   "cell_type": "code",
   "execution_count": 325,
   "metadata": {},
   "outputs": [],
   "source": [
    "from sklearn.neural_network import MLPClassifier"
   ]
  },
  {
   "cell_type": "code",
   "execution_count": 326,
   "metadata": {},
   "outputs": [],
   "source": [
    "#clf = MLPClassifier(solver='lbfgs', alpha=1e-5, hidden_layer_sizes=(20, 8), random_state=42)"
   ]
  },
  {
   "cell_type": "code",
   "execution_count": 327,
   "metadata": {},
   "outputs": [],
   "source": [
    "#clf.fit(X_tr, y_tr)  "
   ]
  },
  {
   "cell_type": "code",
   "execution_count": 328,
   "metadata": {},
   "outputs": [],
   "source": [
    "#clf.predict(X_tst)"
   ]
  },
  {
   "cell_type": "code",
   "execution_count": 329,
   "metadata": {},
   "outputs": [],
   "source": [
    "#print('AUC на выборке: {:.5f}'.format(roc_auc_score(y_tst, clf.predict_proba(X_tst)[:,1])))"
   ]
  },
  {
   "cell_type": "code",
   "execution_count": 330,
   "metadata": {},
   "outputs": [],
   "source": [
    "#print('AUC на выборке: {:.5f}'.format(roc_auc_score(y_tr, clf.predict_proba(X_tr)[:,1])))"
   ]
  },
  {
   "cell_type": "markdown",
   "metadata": {},
   "source": [
    "##### 86216 at 5,2 \n",
    "##### 0.86362 at 10,4"
   ]
  },
  {
   "cell_type": "code",
   "execution_count": 331,
   "metadata": {},
   "outputs": [],
   "source": [
    "#import h2o - лучше в colab"
   ]
  },
  {
   "cell_type": "code",
   "execution_count": 332,
   "metadata": {},
   "outputs": [],
   "source": [
    "data_test = pd.read_csv('cs-test.csv', encoding='cp1251', sep=',')"
   ]
  },
  {
   "cell_type": "code",
   "execution_count": 335,
   "metadata": {},
   "outputs": [],
   "source": [
    "#for i in numerical_columns:\n",
    "#    data_test[i] = (train[i] - train_copy.mean()) / train_copy.std()"
   ]
  },
  {
   "cell_type": "code",
   "execution_count": 336,
   "metadata": {},
   "outputs": [
    {
     "name": "stdout",
     "output_type": "stream",
     "text": [
      "<class 'pandas.core.frame.DataFrame'>\n",
      "RangeIndex: 101503 entries, 0 to 101502\n",
      "Data columns (total 12 columns):\n",
      "Unnamed: 0                              101503 non-null int64\n",
      "SeriousDlqin2yrs                        0 non-null float64\n",
      "RevolvingUtilizationOfUnsecuredLines    101503 non-null float64\n",
      "age                                     101503 non-null int64\n",
      "NumberOfTime30-59DaysPastDueNotWorse    101503 non-null int64\n",
      "DebtRatio                               101503 non-null float64\n",
      "MonthlyIncome                           81400 non-null float64\n",
      "NumberOfOpenCreditLinesAndLoans         101503 non-null int64\n",
      "NumberOfTimes90DaysLate                 101503 non-null int64\n",
      "NumberRealEstateLoansOrLines            101503 non-null int64\n",
      "NumberOfTime60-89DaysPastDueNotWorse    101503 non-null int64\n",
      "NumberOfDependents                      98877 non-null float64\n",
      "dtypes: float64(5), int64(7)\n",
      "memory usage: 9.3 MB\n"
     ]
    }
   ],
   "source": [
    "data_test.info()"
   ]
  },
  {
   "cell_type": "code",
   "execution_count": null,
   "metadata": {},
   "outputs": [],
   "source": []
  },
  {
   "cell_type": "code",
   "execution_count": null,
   "metadata": {},
   "outputs": [],
   "source": []
  },
  {
   "cell_type": "code",
   "execution_count": null,
   "metadata": {},
   "outputs": [],
   "source": []
  },
  {
   "cell_type": "code",
   "execution_count": null,
   "metadata": {},
   "outputs": [],
   "source": [
    "\n"
   ]
  },
  {
   "cell_type": "code",
   "execution_count": null,
   "metadata": {},
   "outputs": [],
   "source": []
  },
  {
   "cell_type": "code",
   "execution_count": null,
   "metadata": {},
   "outputs": [],
   "source": []
  },
  {
   "cell_type": "code",
   "execution_count": null,
   "metadata": {},
   "outputs": [],
   "source": [
    "\n"
   ]
  },
  {
   "cell_type": "code",
   "execution_count": null,
   "metadata": {},
   "outputs": [],
   "source": []
  },
  {
   "cell_type": "code",
   "execution_count": null,
   "metadata": {},
   "outputs": [],
   "source": []
  }
 ],
 "metadata": {
  "kernelspec": {
   "display_name": "Python 3",
   "language": "python",
   "name": "python3"
  },
  "language_info": {
   "codemirror_mode": {
    "name": "ipython",
    "version": 3
   },
   "file_extension": ".py",
   "mimetype": "text/x-python",
   "name": "python",
   "nbconvert_exporter": "python",
   "pygments_lexer": "ipython3",
   "version": "3.7.3"
  }
 },
 "nbformat": 4,
 "nbformat_minor": 2
}
